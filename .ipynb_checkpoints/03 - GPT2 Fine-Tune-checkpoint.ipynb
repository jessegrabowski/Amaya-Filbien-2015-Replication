{
 "cells": [
  {
   "cell_type": "markdown",
   "id": "b0b0d943",
   "metadata": {
    "toc": true
   },
   "source": [
    "<h1>Table of Contents<span class=\"tocSkip\"></span></h1>\n",
    "<div class=\"toc\"><ul class=\"toc-item\"></ul></div>"
   ]
  },
  {
   "cell_type": "code",
   "execution_count": 6,
   "id": "9ed7eca8",
   "metadata": {},
   "outputs": [],
   "source": [
    "from transformers import GPT2LMHeadModel, GPT2TokenizerFast, GPT2Config\n",
    "from transformers import TrainingArguments, Trainer\n",
    "from datasets import Dataset\n",
    "\n",
    "import pandas as pd\n",
    "import numpy as np\n",
    "\n",
    "import torch as T\n",
    "\n",
    "import spacy"
   ]
  },
  {
   "cell_type": "code",
   "execution_count": 7,
   "id": "d2704e8d",
   "metadata": {},
   "outputs": [],
   "source": [
    "tokenizer = GPT2TokenizerFast.from_pretrained('gpt2')\n",
    "tokenizer.pad_token = tokenizer.unk_token"
   ]
  },
  {
   "cell_type": "code",
   "execution_count": 8,
   "id": "db908b13",
   "metadata": {},
   "outputs": [],
   "source": [
    "df = pd.read_csv('data/ecb_intro_text_only.csv', index_col=0)\n",
    "df.rename(columns={'intro_text':'text'}, inplace=True)\n",
    "df.reset_index(drop=True, inplace=True)\n",
    "df.index.name = 'index'"
   ]
  },
  {
   "cell_type": "code",
   "execution_count": 9,
   "id": "31b2a151",
   "metadata": {},
   "outputs": [],
   "source": [
    "dataset = Dataset.from_pandas(df, preserve_index=False)"
   ]
  },
  {
   "cell_type": "code",
   "execution_count": 10,
   "id": "fc567119",
   "metadata": {},
   "outputs": [],
   "source": [
    "block_size = 256\n",
    "\n",
    "def group_texts(examples):\n",
    "    total_length = len(examples[list(examples.keys())[0]])\n",
    "    \n",
    "    result = {k:[] for k in examples.keys()}\n",
    "    for k, v in examples.items():\n",
    "        if not isinstance(v, list):\n",
    "            v = [v]\n",
    "        for l in v:\n",
    "            for i in range(0, len(l), block_size):\n",
    "                block = l[i:i+block_size]\n",
    "                pad_len = block_size - len(block)\n",
    "                \n",
    "                if k == 'input_ids':\n",
    "                    block += ([tokenizer.pad_token_id] * pad_len)\n",
    "                elif k == 'attention_mask':\n",
    "                    block += ([0] * pad_len)\n",
    "                \n",
    "                assert len(block) == block_size\n",
    "                result[k].append(block)\n",
    "            \n",
    "    result[\"labels\"] = result[\"input_ids\"].copy()\n",
    "    return result"
   ]
  },
  {
   "cell_type": "code",
   "execution_count": 11,
   "id": "2d964128",
   "metadata": {},
   "outputs": [
    {
     "data": {
      "application/vnd.jupyter.widget-view+json": {
       "model_id": "727c965267d846ca8257cd6991208440",
       "version_major": 2,
       "version_minor": 0
      },
      "text/plain": [
       "  0%|          | 0/251 [00:00<?, ?ex/s]"
      ]
     },
     "metadata": {},
     "output_type": "display_data"
    },
    {
     "data": {
      "application/vnd.jupyter.widget-view+json": {
       "model_id": "1391069e6ed0488fb844c92d937fd758",
       "version_major": 2,
       "version_minor": 0
      },
      "text/plain": [
       "  0%|          | 0/1 [00:00<?, ?ba/s]"
      ]
     },
     "metadata": {},
     "output_type": "display_data"
    }
   ],
   "source": [
    "def tokenize_function(examples):\n",
    "    return tokenizer(examples[\"text\"], padding=\"max_length\")\n",
    "\n",
    "tokenized_datasets = dataset.map(tokenize_function, batched=False, remove_columns=['text'])\n",
    "chunked_dataset = tokenized_datasets.map(group_texts, batched=True)"
   ]
  },
  {
   "cell_type": "code",
   "execution_count": 14,
   "id": "ca337754",
   "metadata": {},
   "outputs": [],
   "source": [
    "chunked_dataset.set_format('pt', columns=['input_ids', 'attention_mask'])\n",
    "chunked_dataset = chunked_dataset.train_test_split(test_size=0.1)"
   ]
  },
  {
   "cell_type": "code",
   "execution_count": 15,
   "id": "2547305c",
   "metadata": {},
   "outputs": [],
   "source": [
    "train_data = chunked_dataset['train']\n",
    "test_data  = chunked_dataset['test']"
   ]
  },
  {
   "cell_type": "code",
   "execution_count": 16,
   "id": "015785f6",
   "metadata": {},
   "outputs": [],
   "source": [
    "model = GPT2LMHeadModel.from_pretrained('gpt2')\n",
    "\n",
    "training_args = TrainingArguments(\"gpt2_ecb_finetune\",\n",
    "                                  evaluation_strategy='epoch',\n",
    "                                  num_train_epochs=3,\n",
    "                                  per_device_train_batch_size=5,\n",
    "                                  per_device_eval_batch_size=5,\n",
    "                                  gradient_accumulation_steps=100,\n",
    "                                  save_strategy='steps',\n",
    "                                  save_steps=10000,\n",
    "                                  save_total_limit=10,\n",
    "                                  learning_rate=3e-4)"
   ]
  },
  {
   "cell_type": "code",
   "execution_count": 17,
   "id": "4deba741",
   "metadata": {},
   "outputs": [],
   "source": [
    "def collect_data(features):\n",
    "    batch = {}\n",
    "    \n",
    "    batch['input_ids'] = T.stack([f['input_ids'] for f in features])\n",
    "    batch['attention_mask'] = T.stack([f['attention_mask'] for f in features])\n",
    "    batch['labels'] = T.stack([f['input_ids'].clone() for f in features])\n",
    "        \n",
    "    return batch"
   ]
  },
  {
   "cell_type": "code",
   "execution_count": 18,
   "id": "6faf5050",
   "metadata": {},
   "outputs": [],
   "source": [
    "trainer = Trainer(model,\n",
    "                  args=training_args,\n",
    "                  train_dataset=train_data,\n",
    "                  eval_dataset=test_data,\n",
    "                  data_collator=collect_data,\n",
    "                  tokenizer=tokenizer)"
   ]
  },
  {
   "cell_type": "code",
   "execution_count": 19,
   "id": "6d2f6a4f",
   "metadata": {
    "scrolled": false
   },
   "outputs": [
    {
     "name": "stderr",
     "output_type": "stream",
     "text": [
      "***** Running Evaluation *****\n",
      "  Num examples = 185\n",
      "  Batch size = 5\n"
     ]
    },
    {
     "data": {
      "text/html": [
       "\n",
       "    <div>\n",
       "      \n",
       "      <progress value='74' max='37' style='width:300px; height:20px; vertical-align: middle;'></progress>\n",
       "      [37/37 06:59]\n",
       "    </div>\n",
       "    "
      ],
      "text/plain": [
       "<IPython.core.display.HTML object>"
      ]
     },
     "metadata": {},
     "output_type": "display_data"
    },
    {
     "name": "stdout",
     "output_type": "stream",
     "text": [
      "Eval loss before fine tuning: 3.845\n"
     ]
    }
   ],
   "source": [
    "initial_eval = trainer.evaluate()\n",
    "print(f'Eval loss before fine tuning: {initial_eval[\"eval_loss\"]:0.3f}')"
   ]
  },
  {
   "cell_type": "code",
   "execution_count": 20,
   "id": "07237b3b",
   "metadata": {},
   "outputs": [
    {
     "name": "stderr",
     "output_type": "stream",
     "text": [
      "C:\\Users\\Jesse\\miniconda3\\envs\\econ\\lib\\site-packages\\transformers\\optimization.py:306: FutureWarning: This implementation of AdamW is deprecated and will be removed in a future version. Use the PyTorch implementation torch.optim.AdamW instead, or set `no_deprecation_warning=True` to disable this warning\n",
      "  warnings.warn(\n",
      "***** Running training *****\n",
      "  Num examples = 1662\n",
      "  Num Epochs = 3\n",
      "  Instantaneous batch size per device = 5\n",
      "  Total train batch size (w. parallel, distributed & accumulation) = 500\n",
      "  Gradient Accumulation steps = 100\n",
      "  Total optimization steps = 9\n"
     ]
    },
    {
     "data": {
      "text/html": [
       "\n",
       "    <div>\n",
       "      \n",
       "      <progress value='9' max='9' style='width:300px; height:20px; vertical-align: middle;'></progress>\n",
       "      [9/9 09:21, Epoch 2/3]\n",
       "    </div>\n",
       "    <table border=\"1\" class=\"dataframe\">\n",
       "  <thead>\n",
       " <tr style=\"text-align: left;\">\n",
       "      <th>Epoch</th>\n",
       "      <th>Training Loss</th>\n",
       "      <th>Validation Loss</th>\n",
       "    </tr>\n",
       "  </thead>\n",
       "  <tbody>\n",
       "    <tr>\n",
       "      <td>0</td>\n",
       "      <td>No log</td>\n",
       "      <td>2.815460</td>\n",
       "    </tr>\n",
       "    <tr>\n",
       "      <td>1</td>\n",
       "      <td>No log</td>\n",
       "      <td>2.563984</td>\n",
       "    </tr>\n",
       "    <tr>\n",
       "      <td>2</td>\n",
       "      <td>No log</td>\n",
       "      <td>2.485929</td>\n",
       "    </tr>\n",
       "  </tbody>\n",
       "</table><p>"
      ],
      "text/plain": [
       "<IPython.core.display.HTML object>"
      ]
     },
     "metadata": {},
     "output_type": "display_data"
    },
    {
     "name": "stderr",
     "output_type": "stream",
     "text": [
      "***** Running Evaluation *****\n",
      "  Num examples = 185\n",
      "  Batch size = 5\n",
      "***** Running Evaluation *****\n",
      "  Num examples = 185\n",
      "  Batch size = 5\n",
      "***** Running Evaluation *****\n",
      "  Num examples = 185\n",
      "  Batch size = 5\n",
      "\n",
      "\n",
      "Training completed. Do not forget to share your model on huggingface.co/models =)\n",
      "\n",
      "\n"
     ]
    },
    {
     "data": {
      "text/plain": [
       "TrainOutput(global_step=9, training_loss=3.1564848158094616, metrics={'train_runtime': 719.6196, 'train_samples_per_second': 6.929, 'train_steps_per_second': 0.013, 'total_flos': 630236381184000.0, 'train_loss': 3.1564848158094616, 'epoch': 2.9})"
      ]
     },
     "execution_count": 20,
     "metadata": {},
     "output_type": "execute_result"
    }
   ],
   "source": [
    "trainer.train()"
   ]
  },
  {
   "cell_type": "code",
   "execution_count": 21,
   "id": "f40e6d4d",
   "metadata": {},
   "outputs": [
    {
     "name": "stderr",
     "output_type": "stream",
     "text": [
      "Configuration saved in gpt2_ecb_finetune\\config.json\n",
      "Model weights saved in gpt2_ecb_finetune\\pytorch_model.bin\n"
     ]
    }
   ],
   "source": [
    "model.save_pretrained('gpt2_ecb_finetune')"
   ]
  },
  {
   "cell_type": "code",
   "execution_count": null,
   "id": "51786138",
   "metadata": {},
   "outputs": [],
   "source": []
  }
 ],
 "metadata": {
  "kernelspec": {
   "display_name": "Python 3 (ipykernel)",
   "language": "python",
   "name": "python3"
  },
  "language_info": {
   "codemirror_mode": {
    "name": "ipython",
    "version": 3
   },
   "file_extension": ".py",
   "mimetype": "text/x-python",
   "name": "python",
   "nbconvert_exporter": "python",
   "pygments_lexer": "ipython3",
   "version": "3.9.13"
  },
  "toc": {
   "base_numbering": 1,
   "nav_menu": {},
   "number_sections": true,
   "sideBar": true,
   "skip_h1_title": false,
   "title_cell": "Table of Contents",
   "title_sidebar": "Contents",
   "toc_cell": true,
   "toc_position": {},
   "toc_section_display": true,
   "toc_window_display": false
  }
 },
 "nbformat": 4,
 "nbformat_minor": 5
}
