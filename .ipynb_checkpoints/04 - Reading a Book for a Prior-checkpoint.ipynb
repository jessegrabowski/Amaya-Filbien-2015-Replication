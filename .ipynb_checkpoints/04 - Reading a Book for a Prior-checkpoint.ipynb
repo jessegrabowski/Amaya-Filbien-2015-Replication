{
 "cells": [
  {
   "cell_type": "markdown",
   "id": "b7127e08",
   "metadata": {
    "toc": true
   },
   "source": [
    "<h1>Table of Contents<span class=\"tocSkip\"></span></h1>\n",
    "<div class=\"toc\"><ul class=\"toc-item\"></ul></div>"
   ]
  },
  {
   "cell_type": "code",
   "execution_count": 1,
   "id": "334d6127",
   "metadata": {},
   "outputs": [],
   "source": [
    "import PyPDF2"
   ]
  },
  {
   "cell_type": "code",
   "execution_count": 3,
   "id": "3554093a",
   "metadata": {},
   "outputs": [],
   "source": [
    "reader = PyPDF2.PdfReader('data/Thygesen et al 1993.pdf')"
   ]
  },
  {
   "cell_type": "code",
   "execution_count": 10,
   "id": "8b29ca26",
   "metadata": {},
   "outputs": [],
   "source": [
    "def visitor_body(text, cm, tm, fontDict, fontSize):\n",
    "    y = tm[5]\n",
    "    if y > 50 and y < 720:\n",
    "        parts.append(text)"
   ]
  },
  {
   "cell_type": "code",
   "execution_count": 21,
   "id": "d01887a6",
   "metadata": {},
   "outputs": [],
   "source": []
  },
  {
   "cell_type": "code",
   "execution_count": 26,
   "id": "5e6e1a13",
   "metadata": {},
   "outputs": [],
   "source": [
    "# Skip the introduction / table of contents\n",
    "chunk1 = reader.pages[14:27]\n",
    "\n",
    "# There are three papers in French; skip these.\n",
    "chunk2 = reader.pages[37:111]\n",
    "chunk3 = reader.pages[145:378]\n",
    "chunk4 = reader.pages[391:434]"
   ]
  },
  {
   "cell_type": "code",
   "execution_count": 27,
   "id": "a824430d",
   "metadata": {},
   "outputs": [],
   "source": [
    "content = []\n",
    "for chunk in [chunk1, chunk2, chunk3, chunk4]:\n",
    "    for page in chunk:\n",
    "        text = page.extract_text()\n",
    "        content.append(text)"
   ]
  },
  {
   "cell_type": "code",
   "execution_count": 106,
   "id": "327a4e21",
   "metadata": {},
   "outputs": [],
   "source": [
    "from unidecode import unidecode_expect_ascii\n",
    "import re\n",
    "from string import punctuation\n",
    "from nltk.tokenize import word_tokenize\n",
    "from nltk.lm.preprocessing import everygrams, padded_everygram_pipeline"
   ]
  },
  {
   "cell_type": "code",
   "execution_count": 32,
   "id": "e22eab3c",
   "metadata": {},
   "outputs": [],
   "source": [
    "KEEP_PUNCT = '''.?!'\"$%'''\n",
    "PUNCT = ''.join([x for x in punctuation if x not in KEEP_PUNCT])"
   ]
  },
  {
   "cell_type": "code",
   "execution_count": 64,
   "id": "2263f2cd",
   "metadata": {},
   "outputs": [],
   "source": [
    "# Copied from the main script so preprocessing matches what I'm using\n",
    "# in the langauge model.\n",
    "\n",
    "def clean_text(s):\n",
    "    lower = s.lower()\n",
    "    decoded  = unidecode_expect_ascii(lower)\n",
    "    no_punct = re.sub('[' + re.escape(PUNCT) + '\\n\\t' + ']', ' ', decoded)\n",
    "    pad_numbers = re.sub('\\d', ' \\g<0> ', no_punct)\n",
    "    reduce_spaces = re.sub(' +', ' ', pad_numbers)\n",
    "    return reduce_spaces"
   ]
  },
  {
   "cell_type": "code",
   "execution_count": 95,
   "id": "01a49376",
   "metadata": {},
   "outputs": [],
   "source": [
    "import spacy\n",
    "nlp = spacy.load(\"en_core_web_sm\")"
   ]
  },
  {
   "cell_type": "code",
   "execution_count": 65,
   "id": "8c573c32",
   "metadata": {
    "scrolled": false
   },
   "outputs": [],
   "source": [
    "clean_content = [clean_text(page) for page in content]"
   ]
  },
  {
   "cell_type": "code",
   "execution_count": 98,
   "id": "38530017",
   "metadata": {},
   "outputs": [],
   "source": [
    "corpus = nlp(' '.join(clean_content))"
   ]
  },
  {
   "cell_type": "code",
   "execution_count": 104,
   "id": "8c936250",
   "metadata": {},
   "outputs": [],
   "source": [
    "sentences = [sent.text.strip() for sent in corpus.sents]"
   ]
  },
  {
   "cell_type": "code",
   "execution_count": 120,
   "id": "d0322a08",
   "metadata": {},
   "outputs": [],
   "source": [
    "unigrams, _ = padded_everygram_pipeline(1, [word_tokenize(s) for s in sentences])\n",
    "unigrams = [w for s in list(unigrams) for w in list(s)] \n",
    "bigrams, _ = padded_everygram_pipeline(2, [word_tokenize(s) for s in sentences])\n",
    "bigrams = [w for s in list(bigrams) for w in list(s) if len(w) == 2]"
   ]
  },
  {
   "cell_type": "code",
   "execution_count": 121,
   "id": "95f1fd1b",
   "metadata": {},
   "outputs": [],
   "source": [
    "from collections import Counter\n",
    "word_counts = Counter(unigrams)"
   ]
  },
  {
   "cell_type": "code",
   "execution_count": 122,
   "id": "d32046ec",
   "metadata": {},
   "outputs": [],
   "source": [
    "import pandas as pd\n",
    "df_unigrams = pd.Series(word_counts)\n",
    "df_unigrams.name = 'Unigrams'"
   ]
  },
  {
   "cell_type": "code",
   "execution_count": 125,
   "id": "0813f54c",
   "metadata": {},
   "outputs": [],
   "source": [
    "df_unigrams.to_csv('data/unigram_counts.csv')"
   ]
  },
  {
   "cell_type": "code",
   "execution_count": 126,
   "id": "5569f655",
   "metadata": {},
   "outputs": [],
   "source": [
    "bigram_counts = Counter(bigrams)"
   ]
  },
  {
   "cell_type": "code",
   "execution_count": 127,
   "id": "15979b3a",
   "metadata": {},
   "outputs": [],
   "source": [
    "df_bigrams = pd.Series(bigram_counts)\n",
    "df_bigrams.name = 'Bigrams'"
   ]
  },
  {
   "cell_type": "code",
   "execution_count": 130,
   "id": "9519b346",
   "metadata": {},
   "outputs": [],
   "source": [
    "df_bigrams.to_csv('data/bigram_counts.csv')"
   ]
  },
  {
   "cell_type": "code",
   "execution_count": null,
   "id": "6dbfcdc1",
   "metadata": {},
   "outputs": [],
   "source": []
  }
 ],
 "metadata": {
  "kernelspec": {
   "display_name": "Python 3 (ipykernel)",
   "language": "python",
   "name": "python3"
  },
  "language_info": {
   "codemirror_mode": {
    "name": "ipython",
    "version": 3
   },
   "file_extension": ".py",
   "mimetype": "text/x-python",
   "name": "python",
   "nbconvert_exporter": "python",
   "pygments_lexer": "ipython3",
   "version": "3.9.13"
  },
  "toc": {
   "base_numbering": 1,
   "nav_menu": {},
   "number_sections": true,
   "sideBar": true,
   "skip_h1_title": false,
   "title_cell": "Table of Contents",
   "title_sidebar": "Contents",
   "toc_cell": true,
   "toc_position": {},
   "toc_section_display": true,
   "toc_window_display": false
  }
 },
 "nbformat": 4,
 "nbformat_minor": 5
}
