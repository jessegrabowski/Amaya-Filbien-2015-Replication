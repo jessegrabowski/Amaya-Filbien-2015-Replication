{
 "cells": [
  {
   "cell_type": "markdown",
   "id": "f24e8fa7",
   "metadata": {
    "toc": true
   },
   "source": [
    "<h1>Table of Contents<span class=\"tocSkip\"></span></h1>\n",
    "<div class=\"toc\"><ul class=\"toc-item\"></ul></div>"
   ]
  },
  {
   "cell_type": "code",
   "execution_count": 12,
   "id": "5c63fdbc",
   "metadata": {},
   "outputs": [],
   "source": [
    "import requests\n",
    "from bs4 import BeautifulSoup\n",
    "from selenium.webdriver import Firefox\n",
    "import time"
   ]
  },
  {
   "cell_type": "code",
   "execution_count": 9,
   "id": "02655505",
   "metadata": {},
   "outputs": [],
   "source": [
    "headers = {'Host': 'www.ecb.europa.eu',\n",
    "'User-Agent': 'Mozilla/5.0 (Windows NT 10.0; Win64; x64; rv:105.0) Gecko/20100101 Firefox/105.0',\n",
    "'Accept': 'text/html,application/xhtml+xml,application/xml;q=0.9,image/avif,image/webp,*/*;q=0.8',\n",
    "'Accept-Language': 'en-US,en;q=0.5',\n",
    "'Accept-Encoding': 'gzip, deflate, br',\n",
    "'Referer': 'https://www.ecb.europa.eu/press/govcdec/mopo/html/index.en.html',\n",
    "'Connection': 'keep-alive',\n",
    "'Upgrade-Insecure-Requests': '1',\n",
    "'Sec-Fetch-Dest': 'document',\n",
    "'Sec-Fetch-Mode': 'navigate',\n",
    "'Sec-Fetch-Site': 'same-origin',\n",
    "'Sec-Fetch-User': '?1',\n",
    "'If-None-Match': \"myra-39393ed9\"}"
   ]
  },
  {
   "cell_type": "code",
   "execution_count": 285,
   "id": "dff6110d",
   "metadata": {
    "scrolled": true
   },
   "outputs": [],
   "source": [
    "# I found the page was dynamically loaded, so I used Selenium.\n",
    "\n",
    "url = 'https://www.ecb.europa.eu/press/pressconf/html/index.en.html'\n",
    "driver = Firefox()\n",
    "driver.get(url)"
   ]
  },
  {
   "cell_type": "code",
   "execution_count": 302,
   "id": "f5673fe0",
   "metadata": {},
   "outputs": [],
   "source": [
    "target_links = []\n",
    "link_dates = []\n",
    "while True:\n",
    "    old_len = len(target_links)\n",
    "    links = driver.find_elements(by='tag name', value='dd')\n",
    "    dates = driver.find_elements(by='tag name', value='dt')\n",
    "    \n",
    "    for date, link in zip(dates, links):\n",
    "        link_text = link.text.lower()\n",
    "        link_wanted = ('introductory statement' in link_text) or ('monetary policy statement' in link_text)\n",
    "        if link not in target_links and link_wanted:\n",
    "            target_links.append(link)\n",
    "            link_dates.append(date.text.strip())\n",
    "    if len(target_links) == old_len:\n",
    "        break\n",
    "    driver.execute_script(\"arguments[0].scrollIntoView(true);\", link)\n",
    "    time.sleep(5)"
   ]
  },
  {
   "cell_type": "code",
   "execution_count": 307,
   "id": "9a411ac2",
   "metadata": {},
   "outputs": [],
   "source": [
    "urls = []\n",
    "for link in target_links:\n",
    "    a_href = link.find_element(by='tag name', value='a')\n",
    "    urls.append(a_href.get_attribute('href'))"
   ]
  },
  {
   "cell_type": "code",
   "execution_count": 308,
   "id": "e5379568",
   "metadata": {},
   "outputs": [],
   "source": [
    "import re\n",
    "DATE_PATTERN = re.compile('(\\d{1,2} (January|February|March|April|May|June|July|August|September|October|November|December) \\d{4})')"
   ]
  },
  {
   "cell_type": "code",
   "execution_count": 294,
   "id": "afc95dd6",
   "metadata": {},
   "outputs": [
    {
     "data": {
      "application/vnd.jupyter.widget-view+json": {
       "model_id": "854eab06697a49369b88161a479b8937",
       "version_major": 2,
       "version_minor": 0
      },
      "text/plain": [
       "  0%|          | 0/259 [00:00<?, ?it/s]"
      ]
     },
     "metadata": {},
     "output_type": "display_data"
    }
   ],
   "source": [
    "from tqdm.notebook import tqdm\n",
    "\n",
    "data = []\n",
    "for i, url in enumerate(tqdm(urls)):\n",
    "    page = requests.get(url).content\n",
    "    soup = BeautifulSoup(page, parser='lxml-parser', features='html')\n",
    "    textbox = soup.find('main')\n",
    "    \n",
    "    name = soup.find('div', class_='title').get_text().strip()\n",
    "    \n",
    "    title_text = textbox.find('h2', class_='ecb-pressContentSubtitle').get_text()\n",
    "    \n",
    "    title_text = title_text.replace('-', ' ')\n",
    "    title_text = title_text.replace('European Central Bank', 'ECB')\n",
    "    title_text = title_text.replace(' and ', ', and ')\n",
    "    \n",
    "    ps = textbox.find_all('p')\n",
    "\n",
    "    items = title_text.split(',')\n",
    "\n",
    "    president = None\n",
    "    vice_president = None\n",
    "    location = None\n",
    "    date = None\n",
    "\n",
    "    #Check for president\n",
    "    Pres = [x for x in items if 'President' in x and 'ECB' in x and 'Vice' not in x]\n",
    "    if len(Pres) == 1:\n",
    "        p_idx = items.index(Pres[0]) - 1\n",
    "        president = items[p_idx].strip()\n",
    "\n",
    "    # Check for Vice-President\n",
    "    VP = [x for x in items if 'Vice President' in x and 'ECB' in x]\n",
    "    if len(VP) == 1:\n",
    "        vp_idx =  items.index(VP[0]) - 1 \n",
    "        vice_president = items[vp_idx]\n",
    "        \n",
    "    # Check for a location\n",
    "    # Case 1: items has 6 elements, then location is number 5\n",
    "    if len(items) == 6:\n",
    "        location = items[4]\n",
    "    # Case 2: There was no comma separating the VP and the location.\n",
    "    elif len(VP) > 0:\n",
    "        candidate = VP[0].replace('Vice President of the ECB', '' ).strip()\n",
    "        if candidate != '':\n",
    "            location = candidate\n",
    "            \n",
    "    info = dict(\n",
    "        date = date,\n",
    "        location = location,\n",
    "        president = president,\n",
    "        vice_president = vice_president,\n",
    "        title = name,\n",
    "        text = '\\n'.join([x.get_text() for x in ps]),\n",
    "        url = url\n",
    "    )\n",
    "\n",
    "    data.append(info)"
   ]
  },
  {
   "cell_type": "code",
   "execution_count": 373,
   "id": "c788d265",
   "metadata": {},
   "outputs": [],
   "source": [
    "df = pd.DataFrame(data)\n",
    "df.date = pd.Series(link_dates)\n",
    "df = df[~df.title.isin(df.title.value_counts()[df.title.value_counts() == 1].index)]"
   ]
  },
  {
   "cell_type": "code",
   "execution_count": 374,
   "id": "d21a8fda",
   "metadata": {},
   "outputs": [],
   "source": [
    "df.to_csv('ECB_introductory_statements_raw.csv')"
   ]
  },
  {
   "cell_type": "code",
   "execution_count": null,
   "id": "022ad1b9",
   "metadata": {},
   "outputs": [],
   "source": []
  }
 ],
 "metadata": {
  "kernelspec": {
   "display_name": "Python 3 (ipykernel)",
   "language": "python",
   "name": "python3"
  },
  "language_info": {
   "codemirror_mode": {
    "name": "ipython",
    "version": 3
   },
   "file_extension": ".py",
   "mimetype": "text/x-python",
   "name": "python",
   "nbconvert_exporter": "python",
   "pygments_lexer": "ipython3",
   "version": "3.9.13"
  },
  "toc": {
   "base_numbering": 1,
   "nav_menu": {},
   "number_sections": true,
   "sideBar": true,
   "skip_h1_title": false,
   "title_cell": "Table of Contents",
   "title_sidebar": "Contents",
   "toc_cell": true,
   "toc_position": {},
   "toc_section_display": true,
   "toc_window_display": false
  }
 },
 "nbformat": 4,
 "nbformat_minor": 5
}
