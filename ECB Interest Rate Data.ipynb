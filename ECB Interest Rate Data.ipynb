{
 "cells": [
  {
   "cell_type": "markdown",
   "id": "209da3f7",
   "metadata": {
    "toc": true
   },
   "source": [
    "<h1>Table of Contents<span class=\"tocSkip\"></span></h1>\n",
    "<div class=\"toc\"><ul class=\"toc-item\"></ul></div>"
   ]
  },
  {
   "cell_type": "code",
   "execution_count": 15,
   "id": "5aabdb2a",
   "metadata": {},
   "outputs": [],
   "source": [
    "import requests\n",
    "import pandas as pd\n",
    "from bs4 import BeautifulSoup\n",
    "import numpy as np"
   ]
  },
  {
   "cell_type": "code",
   "execution_count": 64,
   "id": "fd863161",
   "metadata": {},
   "outputs": [],
   "source": [
    "url = 'https://www.ecb.europa.eu/stats/policy_and_exchange_rates/key_ecb_interest_rates/html/index.en.html'\n",
    "page = requests.get(url).content\n",
    "soup = BeautifulSoup(page)"
   ]
  },
  {
   "cell_type": "code",
   "execution_count": 65,
   "id": "9f57baf1",
   "metadata": {},
   "outputs": [],
   "source": [
    "table = []\n",
    "for row in soup.find_all('tr'):\n",
    "    data_row = []\n",
    "    for value in row.find_all('td'):\n",
    "        data_row.append(value.get_text())\n",
    "    table.append(data_row)"
   ]
  },
  {
   "cell_type": "code",
   "execution_count": 66,
   "id": "abfbb252",
   "metadata": {},
   "outputs": [],
   "source": [
    "df = pd.DataFrame([x for x in table if len(x) == 6])\n",
    "df.columns = ['Year', 'Date', 'Deposit Facility', 'MFO Fixed', 'MFO Variable', 'Marginal lending facility']"
   ]
  },
  {
   "cell_type": "code",
   "execution_count": 67,
   "id": "450e12cc",
   "metadata": {},
   "outputs": [],
   "source": [
    "df.Year = df.Year.str.strip().replace('', np.nan).ffill()"
   ]
  },
  {
   "cell_type": "code",
   "execution_count": 70,
   "id": "93bd4dc6",
   "metadata": {},
   "outputs": [],
   "source": [
    "df['date'] = pd.to_datetime(df.Date.str.split('.').str[0] + ' ' + df.Year)"
   ]
  },
  {
   "cell_type": "code",
   "execution_count": 71,
   "id": "379baafd",
   "metadata": {},
   "outputs": [],
   "source": [
    "df.drop(columns=['Year', 'Date']).set_index('date').replace('-', np.nan).to_csv('ECB_primary_rates.csv')"
   ]
  },
  {
   "cell_type": "code",
   "execution_count": 47,
   "id": "237216ff",
   "metadata": {},
   "outputs": [],
   "source": [
    "df = df.drop(columns=['Year', 'Date']).set_index('date').loc['1999':'2013'].replace('-', np.nan)"
   ]
  },
  {
   "cell_type": "code",
   "execution_count": 49,
   "id": "a4ed5fd7",
   "metadata": {},
   "outputs": [],
   "source": [
    "df['MFO'] = df['MFO Fixed'].fillna(df['MFO Variable'])"
   ]
  },
  {
   "cell_type": "code",
   "execution_count": 59,
   "id": "a7648de3",
   "metadata": {},
   "outputs": [
    {
     "data": {
      "text/html": [
       "<div>\n",
       "<style scoped>\n",
       "    .dataframe tbody tr th:only-of-type {\n",
       "        vertical-align: middle;\n",
       "    }\n",
       "\n",
       "    .dataframe tbody tr th {\n",
       "        vertical-align: top;\n",
       "    }\n",
       "\n",
       "    .dataframe thead th {\n",
       "        text-align: right;\n",
       "    }\n",
       "</style>\n",
       "<table border=\"1\" class=\"dataframe\">\n",
       "  <thead>\n",
       "    <tr style=\"text-align: right;\">\n",
       "      <th>MFO</th>\n",
       "      <th>-0.75</th>\n",
       "      <th>-0.50</th>\n",
       "      <th>-0.25</th>\n",
       "      <th>0.00</th>\n",
       "      <th>0.25</th>\n",
       "      <th>0.50</th>\n",
       "    </tr>\n",
       "    <tr>\n",
       "      <th>date</th>\n",
       "      <th></th>\n",
       "      <th></th>\n",
       "      <th></th>\n",
       "      <th></th>\n",
       "      <th></th>\n",
       "      <th></th>\n",
       "    </tr>\n",
       "  </thead>\n",
       "  <tbody>\n",
       "    <tr>\n",
       "      <th>1999</th>\n",
       "      <td>0</td>\n",
       "      <td>1</td>\n",
       "      <td>0</td>\n",
       "      <td>2</td>\n",
       "      <td>0</td>\n",
       "      <td>1</td>\n",
       "    </tr>\n",
       "    <tr>\n",
       "      <th>2000</th>\n",
       "      <td>0</td>\n",
       "      <td>0</td>\n",
       "      <td>0</td>\n",
       "      <td>1</td>\n",
       "      <td>5</td>\n",
       "      <td>1</td>\n",
       "    </tr>\n",
       "    <tr>\n",
       "      <th>2001</th>\n",
       "      <td>0</td>\n",
       "      <td>2</td>\n",
       "      <td>2</td>\n",
       "      <td>0</td>\n",
       "      <td>0</td>\n",
       "      <td>0</td>\n",
       "    </tr>\n",
       "    <tr>\n",
       "      <th>2002</th>\n",
       "      <td>0</td>\n",
       "      <td>1</td>\n",
       "      <td>0</td>\n",
       "      <td>0</td>\n",
       "      <td>0</td>\n",
       "      <td>0</td>\n",
       "    </tr>\n",
       "    <tr>\n",
       "      <th>2003</th>\n",
       "      <td>0</td>\n",
       "      <td>1</td>\n",
       "      <td>1</td>\n",
       "      <td>0</td>\n",
       "      <td>0</td>\n",
       "      <td>0</td>\n",
       "    </tr>\n",
       "    <tr>\n",
       "      <th>2005</th>\n",
       "      <td>0</td>\n",
       "      <td>0</td>\n",
       "      <td>0</td>\n",
       "      <td>0</td>\n",
       "      <td>1</td>\n",
       "      <td>0</td>\n",
       "    </tr>\n",
       "    <tr>\n",
       "      <th>2006</th>\n",
       "      <td>0</td>\n",
       "      <td>0</td>\n",
       "      <td>0</td>\n",
       "      <td>0</td>\n",
       "      <td>5</td>\n",
       "      <td>0</td>\n",
       "    </tr>\n",
       "    <tr>\n",
       "      <th>2007</th>\n",
       "      <td>0</td>\n",
       "      <td>0</td>\n",
       "      <td>0</td>\n",
       "      <td>0</td>\n",
       "      <td>2</td>\n",
       "      <td>0</td>\n",
       "    </tr>\n",
       "    <tr>\n",
       "      <th>2008</th>\n",
       "      <td>1</td>\n",
       "      <td>1</td>\n",
       "      <td>0</td>\n",
       "      <td>0</td>\n",
       "      <td>1</td>\n",
       "      <td>0</td>\n",
       "    </tr>\n",
       "    <tr>\n",
       "      <th>2009</th>\n",
       "      <td>0</td>\n",
       "      <td>2</td>\n",
       "      <td>2</td>\n",
       "      <td>0</td>\n",
       "      <td>0</td>\n",
       "      <td>0</td>\n",
       "    </tr>\n",
       "    <tr>\n",
       "      <th>2011</th>\n",
       "      <td>0</td>\n",
       "      <td>0</td>\n",
       "      <td>2</td>\n",
       "      <td>0</td>\n",
       "      <td>2</td>\n",
       "      <td>0</td>\n",
       "    </tr>\n",
       "    <tr>\n",
       "      <th>2012</th>\n",
       "      <td>0</td>\n",
       "      <td>0</td>\n",
       "      <td>1</td>\n",
       "      <td>0</td>\n",
       "      <td>0</td>\n",
       "      <td>0</td>\n",
       "    </tr>\n",
       "    <tr>\n",
       "      <th>2013</th>\n",
       "      <td>0</td>\n",
       "      <td>0</td>\n",
       "      <td>2</td>\n",
       "      <td>0</td>\n",
       "      <td>0</td>\n",
       "      <td>0</td>\n",
       "    </tr>\n",
       "  </tbody>\n",
       "</table>\n",
       "</div>"
      ],
      "text/plain": [
       "MFO   -0.75  -0.50  -0.25   0.00   0.25   0.50\n",
       "date                                          \n",
       "1999      0      1      0      2      0      1\n",
       "2000      0      0      0      1      5      1\n",
       "2001      0      2      2      0      0      0\n",
       "2002      0      1      0      0      0      0\n",
       "2003      0      1      1      0      0      0\n",
       "2005      0      0      0      0      1      0\n",
       "2006      0      0      0      0      5      0\n",
       "2007      0      0      0      0      2      0\n",
       "2008      1      1      0      0      1      0\n",
       "2009      0      2      2      0      0      0\n",
       "2011      0      0      2      0      2      0\n",
       "2012      0      0      1      0      0      0\n",
       "2013      0      0      2      0      0      0"
      ]
     },
     "execution_count": 59,
     "metadata": {},
     "output_type": "execute_result"
    }
   ],
   "source": [
    "df['MFO'].apply(float).sort_index().diff().groupby(lambda x: x.year).value_counts().unstack(1).fillna(0).applymap(int)"
   ]
  },
  {
   "cell_type": "code",
   "execution_count": null,
   "id": "604fa008",
   "metadata": {},
   "outputs": [],
   "source": []
  }
 ],
 "metadata": {
  "kernelspec": {
   "display_name": "Python 3 (ipykernel)",
   "language": "python",
   "name": "python3"
  },
  "language_info": {
   "codemirror_mode": {
    "name": "ipython",
    "version": 3
   },
   "file_extension": ".py",
   "mimetype": "text/x-python",
   "name": "python",
   "nbconvert_exporter": "python",
   "pygments_lexer": "ipython3",
   "version": "3.9.13"
  },
  "toc": {
   "base_numbering": 1,
   "nav_menu": {},
   "number_sections": true,
   "sideBar": true,
   "skip_h1_title": false,
   "title_cell": "Table of Contents",
   "title_sidebar": "Contents",
   "toc_cell": true,
   "toc_position": {},
   "toc_section_display": true,
   "toc_window_display": false
  }
 },
 "nbformat": 4,
 "nbformat_minor": 5
}
